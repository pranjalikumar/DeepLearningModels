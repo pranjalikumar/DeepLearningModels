{
 "cells": [
  {
   "cell_type": "code",
   "execution_count": 1,
   "metadata": {
    "collapsed": false
   },
   "outputs": [
    {
     "name": "stderr",
     "output_type": "stream",
     "text": [
      "/Users/manojkumar/miniconda2/lib/python2.7/site-packages/h5py/__init__.py:36: FutureWarning: Conversion of the second argument of issubdtype from `float` to `np.floating` is deprecated. In future, it will be treated as `np.float64 == np.dtype(float).type`.\n",
      "  from ._conv import register_converters as _register_converters\n",
      "Using TensorFlow backend.\n"
     ]
    }
   ],
   "source": [
    "import numpy as np\n",
    "from keras.datasets import fashion_mnist\n",
    "from keras.layers import Dense,Conv2D,MaxPooling2D, Flatten, Dropout\n",
    "from keras import backend as K\n",
    "from keras.models import Sequential"
   ]
  },
  {
   "cell_type": "code",
   "execution_count": 2,
   "metadata": {
    "collapsed": false
   },
   "outputs": [],
   "source": [
    "(x_train,y_train),(x_test,y_test)=fashion_mnist.load_data()"
   ]
  },
  {
   "cell_type": "code",
   "execution_count": 3,
   "metadata": {
    "collapsed": false
   },
   "outputs": [
    {
     "name": "stdout",
     "output_type": "stream",
     "text": [
      "channels_last\n"
     ]
    }
   ],
   "source": [
    "print K.image_data_format()"
   ]
  },
  {
   "cell_type": "code",
   "execution_count": 4,
   "metadata": {
    "collapsed": true
   },
   "outputs": [],
   "source": [
    "#initialising some commonly used variables according to fashion-mnist data images\n",
    "img_rows = 28\n",
    "img_cols=28\n",
    "epochs = 24\n",
    "batch_size= 128\n",
    "number_of_classes =10"
   ]
  },
  {
   "cell_type": "code",
   "execution_count": 5,
   "metadata": {
    "collapsed": false
   },
   "outputs": [
    {
     "name": "stdout",
     "output_type": "stream",
     "text": [
      "(60000, 28, 28)\n",
      "60000\n",
      "(60000, 28, 28, 1) (10000, 28, 28, 1)\n"
     ]
    }
   ],
   "source": [
    "#adjust the input shape of x_train and x_test\n",
    "print x_train.shape\n",
    "print x_train.shape[0]\n",
    "x_train = x_train.reshape(x_train.shape[0],img_rows,img_cols,1)\n",
    "x_test = x_test.reshape(x_test.shape[0],img_rows,img_cols,1)\n",
    "input_shape = (img_rows,img_cols,1)\n",
    "print x_train.shape,x_test.shape"
   ]
  },
  {
   "cell_type": "code",
   "execution_count": 6,
   "metadata": {
    "collapsed": true
   },
   "outputs": [],
   "source": [
    "# nType convert and scale test and training data\n",
    "x_train=x_train.astype('float32')\n",
    "x_test = x_test.astype('float32')\n",
    "x_train/=255\n",
    "x_test/=255"
   ]
  },
  {
   "cell_type": "code",
   "execution_count": 7,
   "metadata": {
    "collapsed": false
   },
   "outputs": [
    {
     "name": "stdout",
     "output_type": "stream",
     "text": [
      "(60000, 10) (10000, 10)\n"
     ]
    }
   ],
   "source": [
    "#convert class vectors to binary class matrices\n",
    "from keras.utils import to_categorical\n",
    "y_train = to_categorical(y_train,10)\n",
    "y_test = to_categorical(y_test,10)\n",
    "print y_train.shape,y_test.shape"
   ]
  },
  {
   "cell_type": "code",
   "execution_count": 17,
   "metadata": {
    "collapsed": false
   },
   "outputs": [
    {
     "name": "stdout",
     "output_type": "stream",
     "text": [
      "(28, 28, 1)\n",
      "_________________________________________________________________\n",
      "Layer (type)                 Output Shape              Param #   \n",
      "=================================================================\n",
      "conv2d_3 (Conv2D)            (None, 26, 26, 32)        320       \n",
      "_________________________________________________________________\n",
      "max_pooling2d_3 (MaxPooling2 (None, 13, 13, 32)        0         \n",
      "_________________________________________________________________\n",
      "conv2d_4 (Conv2D)            (None, 11, 11, 32)        9248      \n",
      "_________________________________________________________________\n",
      "max_pooling2d_4 (MaxPooling2 (None, 5, 5, 32)          0         \n",
      "_________________________________________________________________\n",
      "flatten_2 (Flatten)          (None, 800)               0         \n",
      "_________________________________________________________________\n",
      "dense_3 (Dense)              (None, 128)               102528    \n",
      "_________________________________________________________________\n",
      "dropout_2 (Dropout)          (None, 128)               0         \n",
      "_________________________________________________________________\n",
      "dense_4 (Dense)              (None, 10)                1290      \n",
      "=================================================================\n",
      "Total params: 113,386\n",
      "Trainable params: 113,386\n",
      "Non-trainable params: 0\n",
      "_________________________________________________________________\n",
      "None\n"
     ]
    }
   ],
   "source": [
    "#define the model\n",
    "model = Sequential()\n",
    "print input_shape\n",
    "model.add(Conv2D(32,kernel_size=(3,3),activation='relu',input_shape=input_shape)) #input_shape of 1 image\n",
    "model.add(MaxPooling2D(pool_size=(2,2)))\n",
    "model.add(Conv2D(32,kernel_size=(3,3),activation='relu'))\n",
    "model.add(MaxPooling2D(pool_size=(2,2)))\n",
    "model.add(Flatten())\n",
    "model.add(Dense(128,activation='relu'))\n",
    "model.add(Dropout(0.5))  #to avoid overfitting\n",
    "model.add(Dense(10,activation='softmax'))\n",
    "print model.summary()"
   ]
  },
  {
   "cell_type": "code",
   "execution_count": 18,
   "metadata": {
    "collapsed": false
   },
   "outputs": [
    {
     "name": "stdout",
     "output_type": "stream",
     "text": [
      "_________________________________________________________________\n",
      "Layer (type)                 Output Shape              Param #   \n",
      "=================================================================\n",
      "conv2d_3 (Conv2D)            (None, 26, 26, 32)        320       \n",
      "_________________________________________________________________\n",
      "max_pooling2d_3 (MaxPooling2 (None, 13, 13, 32)        0         \n",
      "_________________________________________________________________\n",
      "conv2d_4 (Conv2D)            (None, 11, 11, 32)        9248      \n",
      "_________________________________________________________________\n",
      "max_pooling2d_4 (MaxPooling2 (None, 5, 5, 32)          0         \n",
      "_________________________________________________________________\n",
      "flatten_2 (Flatten)          (None, 800)               0         \n",
      "_________________________________________________________________\n",
      "dense_3 (Dense)              (None, 128)               102528    \n",
      "_________________________________________________________________\n",
      "dropout_2 (Dropout)          (None, 128)               0         \n",
      "_________________________________________________________________\n",
      "dense_4 (Dense)              (None, 10)                1290      \n",
      "=================================================================\n",
      "Total params: 113,386\n",
      "Trainable params: 113,386\n",
      "Non-trainable params: 0\n",
      "_________________________________________________________________\n",
      "None\n",
      "(10000, 28, 28, 1) (10000, 10)\n",
      "Train on 10000 samples, validate on 10000 samples\n",
      "Epoch 1/24\n",
      "10000/10000 [==============================] - 12s 1ms/step - loss: 1.2481 - acc: 0.5473 - val_loss: 0.7109 - val_acc: 0.7411\n",
      "Epoch 2/24\n",
      "10000/10000 [==============================] - 11s 1ms/step - loss: 0.7266 - acc: 0.7289 - val_loss: 0.7398 - val_acc: 0.7152\n",
      "Epoch 3/24\n",
      "10000/10000 [==============================] - 11s 1ms/step - loss: 0.6141 - acc: 0.7709 - val_loss: 0.5596 - val_acc: 0.7801\n",
      "Epoch 4/24\n",
      "10000/10000 [==============================] - 11s 1ms/step - loss: 0.5575 - acc: 0.7918 - val_loss: 0.6721 - val_acc: 0.7124\n",
      "Epoch 5/24\n",
      "10000/10000 [==============================] - 11s 1ms/step - loss: 0.5279 - acc: 0.7988 - val_loss: 0.5269 - val_acc: 0.8007\n",
      "Epoch 6/24\n",
      "10000/10000 [==============================] - 11s 1ms/step - loss: 0.4946 - acc: 0.8148 - val_loss: 0.4233 - val_acc: 0.8365\n",
      "Epoch 7/24\n",
      "10000/10000 [==============================] - 11s 1ms/step - loss: 0.4710 - acc: 0.8224 - val_loss: 0.4094 - val_acc: 0.8416\n",
      "Epoch 8/24\n",
      "10000/10000 [==============================] - 12s 1ms/step - loss: 0.4543 - acc: 0.8357 - val_loss: 0.4089 - val_acc: 0.8497\n",
      "Epoch 9/24\n",
      "10000/10000 [==============================] - 11s 1ms/step - loss: 0.4294 - acc: 0.8436 - val_loss: 0.3825 - val_acc: 0.8530\n",
      "Epoch 10/24\n",
      "10000/10000 [==============================] - 11s 1ms/step - loss: 0.4224 - acc: 0.8460 - val_loss: 0.3734 - val_acc: 0.8647\n",
      "Epoch 11/24\n",
      "10000/10000 [==============================] - 11s 1ms/step - loss: 0.4045 - acc: 0.8554 - val_loss: 0.3877 - val_acc: 0.8448\n",
      "Epoch 12/24\n",
      "10000/10000 [==============================] - 11s 1ms/step - loss: 0.3892 - acc: 0.8575 - val_loss: 0.3730 - val_acc: 0.8575\n",
      "Epoch 13/24\n",
      "10000/10000 [==============================] - 11s 1ms/step - loss: 0.3766 - acc: 0.8615 - val_loss: 0.3486 - val_acc: 0.8651\n",
      "Epoch 14/24\n",
      "10000/10000 [==============================] - 11s 1ms/step - loss: 0.3711 - acc: 0.8672 - val_loss: 0.3405 - val_acc: 0.8659\n",
      "Epoch 15/24\n",
      "10000/10000 [==============================] - 11s 1ms/step - loss: 0.3620 - acc: 0.8700 - val_loss: 0.3058 - val_acc: 0.8879\n",
      "Epoch 16/24\n",
      "10000/10000 [==============================] - 11s 1ms/step - loss: 0.3450 - acc: 0.8753 - val_loss: 0.2840 - val_acc: 0.8955\n",
      "Epoch 17/24\n",
      "10000/10000 [==============================] - 11s 1ms/step - loss: 0.3416 - acc: 0.8733 - val_loss: 0.3034 - val_acc: 0.8862\n",
      "Epoch 18/24\n",
      "10000/10000 [==============================] - 13s 1ms/step - loss: 0.3331 - acc: 0.8794 - val_loss: 0.2816 - val_acc: 0.8976\n",
      "Epoch 19/24\n",
      "10000/10000 [==============================] - 11s 1ms/step - loss: 0.3231 - acc: 0.8819 - val_loss: 0.2847 - val_acc: 0.8962\n",
      "Epoch 20/24\n",
      "10000/10000 [==============================] - 10s 1ms/step - loss: 0.3177 - acc: 0.8863 - val_loss: 0.2836 - val_acc: 0.8869\n",
      "Epoch 21/24\n",
      "10000/10000 [==============================] - 11s 1ms/step - loss: 0.3112 - acc: 0.8876 - val_loss: 0.2855 - val_acc: 0.8900\n",
      "Epoch 22/24\n",
      "10000/10000 [==============================] - 11s 1ms/step - loss: 0.3000 - acc: 0.8914 - val_loss: 0.2668 - val_acc: 0.8980\n",
      "Epoch 23/24\n",
      "10000/10000 [==============================] - 10s 1ms/step - loss: 0.2988 - acc: 0.8893 - val_loss: 0.2573 - val_acc: 0.9005\n",
      "Epoch 24/24\n",
      "10000/10000 [==============================] - 11s 1ms/step - loss: 0.2893 - acc: 0.8942 - val_loss: 0.2437 - val_acc: 0.9058\n"
     ]
    }
   ],
   "source": [
    "#compile and train\n",
    "from keras.optimizers import Adadelta\n",
    "model.compile(optimizer=Adadelta(),loss='categorical_crossentropy',metrics=['accuracy'])\n",
    "print model.summary()\n",
    "print x_test.shape, y_test.shape\n",
    "hist = model.fit(x_test,y_test,batch_size=batch_size,epochs=24,verbose=1,validation_data=(x_test,y_test))"
   ]
  },
  {
   "cell_type": "code",
   "execution_count": 19,
   "metadata": {
    "collapsed": false
   },
   "outputs": [
    {
     "name": "stdout",
     "output_type": "stream",
     "text": [
      "10000/10000 [==============================] - 3s 336us/step\n",
      "Loss on test data:  0.2436974578678608 Accuracy on test data:  0.9058\n"
     ]
    }
   ],
   "source": [
    "score = model.evaluate(x_test,y_test,verbose=1)\n",
    "print 'Loss on test data: ' ,score[0], 'Accuracy on test data: ' ,score[1]"
   ]
  },
  {
   "cell_type": "code",
   "execution_count": 20,
   "metadata": {
    "collapsed": false
   },
   "outputs": [
    {
     "data": {
      "text/plain": [
       "<matplotlib.legend.Legend at 0x11b5012d0>"
      ]
     },
     "execution_count": 20,
     "metadata": {},
     "output_type": "execute_result"
    },
    {
     "data": {
      "image/png": "[encoded data removed]",
      "text/plain": [
       "<matplotlib.figure.Figure at 0x11b501a10>"
      ]
     },
     "metadata": {},
     "output_type": "display_data"
    }
   ],
   "source": [
    "import matplotlib.pyplot as plt\n",
    "epoch_list = list(range(1,len(hist.history['acc'])+1))\n",
    "plt.plot(epoch_list,hist.history['acc'],epoch_list,hist.history['val_acc'])\n",
    "plt.legend('Training accuracy','Validation accuracy')"
   ]
  },
  {
   "cell_type": "code",
   "execution_count": null,
   "metadata": {
    "collapsed": true
   },
   "outputs": [],
   "source": []
  }
 ],
 "metadata": {
  "kernelspec": {
   "display_name": "Python 2",
   "language": "python",
   "name": "python2"
  },
  "language_info": {
   "codemirror_mode": {
    "name": "ipython",
    "version": 2
   },
   "file_extension": ".py",
   "mimetype": "text/x-python",
   "name": "python",
   "nbconvert_exporter": "python",
   "pygments_lexer": "ipython2",
   "version": "2.7.14"
  }
 },
 "nbformat": 4,
 "nbformat_minor": 0
}
