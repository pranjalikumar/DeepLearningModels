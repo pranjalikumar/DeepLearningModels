{
 "cells": [
  {
   "cell_type": "code",
   "execution_count": 25,
   "metadata": {
    "collapsed": false
   },
   "outputs": [
    {
     "name": "stderr",
     "output_type": "stream",
     "text": [
      "/Users/manojkumar/miniconda2/lib/python2.7/site-packages/jupyter_client/jsonutil.py:67: DeprecationWarning:Interpreting naive datetime as local 2018-10-31 09:06:07.375753. Please add timezone info to timestamps.\n"
     ]
    }
   ],
   "source": [
    "import pandas as pd\n",
    "from StyleFrame import StyleFrame, utils\n",
    "hello  = pd.read_excel('/Users/manojkumar/Desktop/hello.xlsx')\n"
   ]
  },
  {
   "cell_type": "code",
   "execution_count": 27,
   "metadata": {
    "collapsed": false
   },
   "outputs": [
    {
     "name": "stdout",
     "output_type": "stream",
     "text": [
      "<bound method DataFrame.head of            Table 1           Unnamed: 1        Unnamed: 2  Unnamed: 3  \\\n",
      "0   ACCOUNT NUMBER                 DATE            FAMILY  SUB FAMILY   \n",
      "1  ABC12345ABC1234  2018-03-22 00:00:00        SECURITIES  GOVT BONDS   \n",
      "2  BCD12345BGH1234  2018-04-22 00:00:00  DEBT INSTRUMENTS  GOVT BONDS   \n",
      "\n",
      "   Unnamed: 4     Unnamed: 5  Unnamed: 6          Unnamed: 7  Unnamed: 8  \n",
      "0        ISIN  SECURITY NAME      AMOUNT  AMOUNT IN MILLIONS         NaN  \n",
      "1  1234567890           HDFC   456790000              456.79         NaN  \n",
      "2   123498760      BLUE CHIP  3456789000             3456.79         NaN  >\n"
     ]
    },
    {
     "name": "stderr",
     "output_type": "stream",
     "text": [
      "/Users/manojkumar/miniconda2/lib/python2.7/site-packages/jupyter_client/jsonutil.py:67: DeprecationWarning:Interpreting naive datetime as local 2018-10-31 09:06:13.639499. Please add timezone info to timestamps.\n"
     ]
    }
   ],
   "source": [
    "print hello.head"
   ]
  },
  {
   "cell_type": "code",
   "execution_count": 34,
   "metadata": {
    "collapsed": false
   },
   "outputs": [
    {
     "name": "stderr",
     "output_type": "stream",
     "text": [
      "/Users/manojkumar/miniconda2/lib/python2.7/site-packages/jupyter_client/jsonutil.py:67: DeprecationWarning:Interpreting naive datetime as local 2018-10-31 09:11:19.039805. Please add timezone info to timestamps.\n"
     ]
    }
   ],
   "source": [
    "class c:\n",
    "    blue = '\\033[94m'\n",
    "    red =  '\\033[93m'"
   ]
  },
  {
   "cell_type": "code",
   "execution_count": 39,
   "metadata": {
    "collapsed": false
   },
   "outputs": [
    {
     "name": "stdout",
     "output_type": "stream",
     "text": [
      "\u001b[93mhad. \u001b[93mlamb \u001b[94mlamb\n"
     ]
    },
    {
     "name": "stderr",
     "output_type": "stream",
     "text": [
      "/Users/manojkumar/miniconda2/lib/python2.7/site-packages/jupyter_client/jsonutil.py:67: DeprecationWarning:Interpreting naive datetime as local 2018-10-31 09:39:52.252839. Please add timezone info to timestamps.\n"
     ]
    }
   ],
   "source": [
    "string =\"Marry had. A little lamb\"\n",
    "part =\" had. lamb\"\n",
    "partwords = part.split()\n",
    "for w in string.split():\n",
    "    if w in partwords:\n",
    "        print c.red+w,\n",
    "else:\n",
    "    print c.blue+w,"
   ]
  },
  {
   "cell_type": "code",
   "execution_count": null,
   "metadata": {
    "collapsed": true
   },
   "outputs": [],
   "source": []
  }
 ],
 "metadata": {
  "kernelspec": {
   "display_name": "Python 2",
   "language": "python",
   "name": "python2"
  },
  "language_info": {
   "codemirror_mode": {
    "name": "ipython",
    "version": 2
   },
   "file_extension": ".py",
   "mimetype": "text/x-python",
   "name": "python",
   "nbconvert_exporter": "python",
   "pygments_lexer": "ipython2",
   "version": "2.7.14"
  }
 },
 "nbformat": 4,
 "nbformat_minor": 0
}
