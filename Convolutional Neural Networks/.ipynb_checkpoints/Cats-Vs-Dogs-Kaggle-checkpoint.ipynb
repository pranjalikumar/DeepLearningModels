{
 "cells": [
  {
   "cell_type": "code",
   "execution_count": 139,
   "metadata": {
    "collapsed": true
   },
   "outputs": [],
   "source": [
    "import os"
   ]
  },
  {
   "cell_type": "code",
   "execution_count": 166,
   "metadata": {
    "collapsed": false
   },
   "outputs": [],
   "source": [
    "#counting number of files and folders\n",
    "def countFiles(path):\n",
    "    for root,dirs,files in os.walk(path):\n",
    "        for f in files:\n",
    "            if f.endswith('.jpg'):\n",
    "                c=c+1\n",
    "    return c\n",
    "   \n",
    "def countFolders(path):\n",
    "    c=0\n",
    "    for root,dirs,files in os.walk(path):\n",
    "        for d in dirs:\n",
    "            c=c+1\n",
    "    return c"
   ]
  },
  {
   "cell_type": "code",
   "execution_count": 168,
   "metadata": {
    "collapsed": false
   },
   "outputs": [],
   "source": [
    "#definitions\n",
    "train_samples = countFiles('./data/train')\n",
    "test_samples = countFiles('./data/validate')\n",
    "classification_classes = countFolders('./data/validate')\n",
    "epcohs = 2\n",
    "batch_size =32"
   ]
  },
  {
   "cell_type": "code",
   "execution_count": 169,
   "metadata": {
    "collapsed": false
   },
   "outputs": [
    {
     "name": "stdout",
     "output_type": "stream",
     "text": [
      "2000 800 2\n"
     ]
    }
   ],
   "source": [
    "print train_samples,test_samples,classification_classes"
   ]
  },
  {
   "cell_type": "code",
   "execution_count": null,
   "metadata": {
    "collapsed": true
   },
   "outputs": [],
   "source": [
    "#data augmentation"
   ]
  }
 ],
 "metadata": {
  "kernelspec": {
   "display_name": "Python 2",
   "language": "python",
   "name": "python2"
  },
  "language_info": {
   "codemirror_mode": {
    "name": "ipython",
    "version": 2
   },
   "file_extension": ".py",
   "mimetype": "text/x-python",
   "name": "python",
   "nbconvert_exporter": "python",
   "pygments_lexer": "ipython2",
   "version": "2.7.14"
  }
 },
 "nbformat": 4,
 "nbformat_minor": 0
}
