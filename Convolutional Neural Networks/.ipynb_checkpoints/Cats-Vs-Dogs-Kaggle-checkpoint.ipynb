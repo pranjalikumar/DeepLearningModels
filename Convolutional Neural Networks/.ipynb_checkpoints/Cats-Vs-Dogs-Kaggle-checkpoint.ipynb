{
 "cells": [
  {
   "cell_type": "code",
   "execution_count": 1,
   "metadata": {
    "collapsed": true
   },
   "outputs": [],
   "source": [
    "import os"
   ]
  },
  {
   "cell_type": "code",
   "execution_count": 4,
   "metadata": {
    "collapsed": true
   },
   "outputs": [],
   "source": [
    "def countFiles(path):\n",
    "    return len([f for f in os.listdir(path) if os.path.isfile(f)])\n",
    "    "
   ]
  },
  {
   "cell_type": "code",
   "execution_count": 6,
   "metadata": {
    "collapsed": false
   },
   "outputs": [],
   "source": [
    "#definitions\n",
    "train_samples = countFiles('/Users/manojkumar/Desktop/Python_ML DEV/dlModels/Convolutional Neural Networks/data')\n",
    "test_samples = countFiles('/Users/manojkumar/Desktop/Python_ML DEV/dlModels/Convolutional Neural Networks/data/validate')\n",
    "clasification_classes = countFiles('/Users/manojkumar/Desktop/Python_ML DEV/dlModels/Convolutional Neural Networks/data/validate')"
   ]
  },
  {
   "cell_type": "code",
   "execution_count": 8,
   "metadata": {
    "collapsed": false
   },
   "outputs": [
    {
     "name": "stdout",
     "output_type": "stream",
     "text": [
      " 1 1 1\n"
     ]
    }
   ],
   "source": [
    "print train_samples,test_samples,clasification_classes"
   ]
  },
  {
   "cell_type": "code",
   "execution_count": null,
   "metadata": {
    "collapsed": true
   },
   "outputs": [],
   "source": []
  }
 ],
 "metadata": {
  "kernelspec": {
   "display_name": "Python 2",
   "language": "python",
   "name": "python2"
  },
  "language_info": {
   "codemirror_mode": {
    "name": "ipython",
    "version": 2
   },
   "file_extension": ".py",
   "mimetype": "text/x-python",
   "name": "python",
   "nbconvert_exporter": "python",
   "pygments_lexer": "ipython2",
   "version": "2.7.14"
  }
 },
 "nbformat": 4,
 "nbformat_minor": 0
}
